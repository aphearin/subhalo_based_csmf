{
 "cells": [
  {
   "cell_type": "code",
   "execution_count": null,
   "metadata": {
    "collapsed": true
   },
   "outputs": [],
   "source": [
    "%matplotlib inline"
   ]
  },
  {
   "cell_type": "code",
   "execution_count": 38,
   "metadata": {},
   "outputs": [
    {
     "data": {
      "text/plain": [
       "array([ 55, 309, 378, 895])"
      ]
     },
     "execution_count": 38,
     "metadata": {},
     "output_type": "execute_result"
    }
   ],
   "source": [
    "import subhalo_selection \n",
    "reload(subhalo_selection)\n",
    "\n",
    "\n",
    "\n",
    "host_halo_occupations = np.array((1, 2, 0, 1, 0))\n",
    "host_halo_binning_property = np.array((0.5, 1.5, 0.5, 3.5, 4.5))\n",
    "satellite_host_property = np.repeat(host_halo_binning_property, host_halo_occupations)\n",
    "bin_edges = np.array((0, 1, 2., 3., 4, 5))\n",
    "\n",
    "num_subhalos = int(1e3)\n",
    "sorted_subhalo_binning_property = np.sort(np.random.uniform(0.01, 3.99, num_subhalos))\n",
    "\n",
    "result = subhalo_selection.select_subhalo_indices(host_halo_occupations, \n",
    "                                                  satellite_host_property,\n",
    "                            bin_edges, sorted_subhalo_binning_property)\n",
    "\n",
    "\n",
    "result"
   ]
  },
  {
   "cell_type": "code",
   "execution_count": 36,
   "metadata": {},
   "outputs": [],
   "source": [
    "sorted_subhalo_binning_property = np.array((0.5, 1., 1.5, 1.5, 2.5))\n",
    "bin_edges = np.array((0, 1, 2., 3.))\n",
    "\n",
    "# np.digitize(sorted_subhalo_binning_property, bin_edges) - 1\n"
   ]
  },
  {
   "cell_type": "code",
   "execution_count": null,
   "metadata": {},
   "outputs": [],
   "source": [
    "np.searchsorted(bin_edges, sorted_subhalo_binning_property) - 1"
   ]
  },
  {
   "cell_type": "code",
   "execution_count": null,
   "metadata": {
    "collapsed": true
   },
   "outputs": [],
   "source": [
    "%load_ext Cython"
   ]
  },
  {
   "cell_type": "code",
   "execution_count": null,
   "metadata": {},
   "outputs": [],
   "source": [
    "%%cython \n",
    "\n",
    "cimport cython\n",
    "from libc.stdlib cimport rand, RAND_MAX\n",
    "from libc.math cimport floor\n",
    "import numpy as np\n",
    "\n",
    "cdef double random_uniform():\n",
    "    cdef double r = rand()\n",
    "    return r / RAND_MAX\n",
    "\n",
    "@cython.boundscheck(False)\n",
    "@cython.wraparound(False)\n",
    "@cython.nonecheck(False)\n",
    "def subhalo_index_kernel(long[:] satellite_bin_indices, long[:] subhalo_bin_indices):\n",
    "    \"\"\"\n",
    "    Parameters\n",
    "    ----------\n",
    "    satellite_bin_indices : ndarray\n",
    "        Array of long integers of shape (num_sats, ) storing the host halo mass bin of\n",
    "        every satellite galaxy in the mock.\n",
    "        All values must be between 0 and num_bins - 2, inclusive\n",
    "\n",
    "    subhalo_bin_indices : ndarray\n",
    "        Array of long integers of shape (num_bins, ) storing the first index\n",
    "        where a subhalo belongs in the next host mass bin\n",
    "\n",
    "    Returns\n",
    "    -------\n",
    "    subhalo_indices : ndarray\n",
    "        Array of long integers of shape (num_sats, ) that can be used\n",
    "        as an indexing array into subhalos\n",
    "    \"\"\"\n",
    "    cdef int num_draws = len(satellite_bin_indices)\n",
    "    cdef int i, bin_index\n",
    "    cdef double u\n",
    "    cdef long low, high\n",
    "    cdef long[:] result = np.zeros(num_draws).astype('i8')\n",
    "\n",
    "    for i in range(num_draws):\n",
    "        bin_index = satellite_bin_indices[i]\n",
    "        low = subhalo_bin_indices[bin_index]\n",
    "        high = subhalo_bin_indices[bin_index+1]\n",
    "        u = random_uniform()\n",
    "        result[i] = <long>floor(u*(high-low) + low)\n",
    "    return result\n",
    "\n",
    "\n",
    "\n"
   ]
  },
  {
   "cell_type": "code",
   "execution_count": null,
   "metadata": {},
   "outputs": [],
   "source": [
    "satellite_bin_indices = np.array([0, 0])\n",
    "\n",
    "subhalo_bin_indices = np.array([0, 4, 9])\n",
    "\n",
    "np.array(subhalo_index_kernel(satellite_bin_indices, subhalo_bin_indices))"
   ]
  },
  {
   "cell_type": "code",
   "execution_count": null,
   "metadata": {},
   "outputs": [],
   "source": [
    "from random import random\n",
    "from math import floor \n",
    "\n",
    "for i in range(16):\n",
    "    low, high = 3, 5\n",
    "    u = random()\n",
    "    print(int(floor(u*(high-low) + low)))"
   ]
  },
  {
   "cell_type": "code",
   "execution_count": 48,
   "metadata": {},
   "outputs": [
    {
     "ename": "ValueError",
     "evalue": "high is out of bounds for int64",
     "output_type": "error",
     "traceback": [
      "\u001b[0;31m---------------------------------------------------------------------------\u001b[0m",
      "\u001b[0;31mValueError\u001b[0m                                Traceback (most recent call last)",
      "\u001b[0;32m<ipython-input-48-e92430c3621e>\u001b[0m in \u001b[0;36m<module>\u001b[0;34m()\u001b[0m\n\u001b[0;32m----> 1\u001b[0;31m \u001b[0mnp\u001b[0m\u001b[0;34m.\u001b[0m\u001b[0mrandom\u001b[0m\u001b[0;34m.\u001b[0m\u001b[0mrandint\u001b[0m\u001b[0;34m(\u001b[0m\u001b[0;34m[\u001b[0m\u001b[0;36m0\u001b[0m\u001b[0;34m,\u001b[0m \u001b[0;36m0\u001b[0m\u001b[0;34m,\u001b[0m \u001b[0;36m0\u001b[0m\u001b[0;34m]\u001b[0m\u001b[0;34m,\u001b[0m \u001b[0;34m[\u001b[0m\u001b[0;36m4\u001b[0m\u001b[0;34m,\u001b[0m \u001b[0;36m4\u001b[0m\u001b[0;34m,\u001b[0m \u001b[0;36m4\u001b[0m\u001b[0;34m]\u001b[0m\u001b[0;34m,\u001b[0m \u001b[0;36m3\u001b[0m\u001b[0;34m)\u001b[0m\u001b[0;34m\u001b[0m\u001b[0m\n\u001b[0m",
      "\u001b[0;32mmtrand.pyx\u001b[0m in \u001b[0;36mmtrand.RandomState.randint (numpy/random/mtrand/mtrand.c:16083)\u001b[0;34m()\u001b[0m\n",
      "\u001b[0;31mValueError\u001b[0m: high is out of bounds for int64"
     ]
    }
   ],
   "source": [
    "np.random.randint([0, 0, 0], [4, 4, 4], 3)"
   ]
  },
  {
   "cell_type": "code",
   "execution_count": 51,
   "metadata": {},
   "outputs": [
    {
     "data": {
      "text/plain": [
       "array([ 0.28507816,  0.72802567,  0.35435714])"
      ]
     },
     "execution_count": 51,
     "metadata": {},
     "output_type": "execute_result"
    }
   ],
   "source": [
    "np.random.uniform((0, 0, 0), (1, 2, 3), 3)"
   ]
  },
  {
   "cell_type": "code",
   "execution_count": 54,
   "metadata": {},
   "outputs": [],
   "source": [
    "np.floor(u*(high-low) + low)"
   ]
  },
  {
   "cell_type": "code",
   "execution_count": 93,
   "metadata": {},
   "outputs": [
    {
     "data": {
      "text/plain": [
       "array([ 2,  3, 11,  5])"
      ]
     },
     "execution_count": 93,
     "metadata": {},
     "output_type": "execute_result"
    }
   ],
   "source": [
    "\n",
    "low = np.array((0, 3, 8, 3))\n",
    "high = np.array((3, 8, 12, 8))\n",
    "num_sats = len(low)\n",
    "\n",
    "indices = (np.floor(np.random.rand(num_sats)*(high - low) + low)).astype('i8')\n",
    "indices"
   ]
  },
  {
   "cell_type": "code",
   "execution_count": 96,
   "metadata": {},
   "outputs": [
    {
     "data": {
      "text/plain": [
       "1"
      ]
     },
     "execution_count": 96,
     "metadata": {},
     "output_type": "execute_result"
    }
   ],
   "source": [
    "np.searchsorted((0, 1, 2), 0.5)"
   ]
  },
  {
   "cell_type": "code",
   "execution_count": null,
   "metadata": {
    "collapsed": true
   },
   "outputs": [],
   "source": []
  }
 ],
 "metadata": {
  "anaconda-cloud": {},
  "kernelspec": {
   "display_name": "Python [conda root]",
   "language": "python",
   "name": "conda-root-py"
  },
  "language_info": {
   "codemirror_mode": {
    "name": "ipython",
    "version": 2
   },
   "file_extension": ".py",
   "mimetype": "text/x-python",
   "name": "python",
   "nbconvert_exporter": "python",
   "pygments_lexer": "ipython2",
   "version": "2.7.13"
  }
 },
 "nbformat": 4,
 "nbformat_minor": 2
}
