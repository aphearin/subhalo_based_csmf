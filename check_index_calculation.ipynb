{
 "cells": [
  {
   "cell_type": "code",
   "execution_count": 1,
   "metadata": {
    "collapsed": true
   },
   "outputs": [],
   "source": [
    "%matplotlib inline"
   ]
  },
  {
   "cell_type": "code",
   "execution_count": 16,
   "metadata": {},
   "outputs": [
    {
     "data": {
      "text/plain": [
       "array([0, 1, 1, 0])"
      ]
     },
     "execution_count": 16,
     "metadata": {},
     "output_type": "execute_result"
    }
   ],
   "source": [
    "import subhalo_selection \n",
    "reload(subhalo_selection)\n",
    "\n",
    "\n",
    "\n",
    "host_halo_occupations = np.array((1, 2, 0, 1, 0))\n",
    "host_halo_binning_property = np.array((0.5, 1.5, 0.5, 0.5, 1.5))\n",
    "bin_edges = np.array((0, 1, 2.))\n",
    "\n",
    "num_subhalos = int(1e3)\n",
    "subhalo_binning_property = np.random.uniform(0.01, 1.99, num_subhalos)\n",
    "\n",
    "result = subhalo_selection.select_subhalo_indices(host_halo_occupations, \n",
    "                                                  host_halo_binning_property,\n",
    "                                bin_edges, subhalo_binning_property)\n",
    "result"
   ]
  },
  {
   "cell_type": "code",
   "execution_count": null,
   "metadata": {
    "collapsed": true
   },
   "outputs": [],
   "source": []
  }
 ],
 "metadata": {
  "anaconda-cloud": {},
  "kernelspec": {
   "display_name": "Python [conda root]",
   "language": "python",
   "name": "conda-root-py"
  },
  "language_info": {
   "codemirror_mode": {
    "name": "ipython",
    "version": 2
   },
   "file_extension": ".py",
   "mimetype": "text/x-python",
   "name": "python",
   "nbconvert_exporter": "python",
   "pygments_lexer": "ipython2",
   "version": "2.7.13"
  }
 },
 "nbformat": 4,
 "nbformat_minor": 2
}
