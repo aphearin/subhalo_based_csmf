{
 "cells": [
  {
   "cell_type": "code",
   "execution_count": 1,
   "metadata": {
    "collapsed": true
   },
   "outputs": [],
   "source": [
    "%matplotlib inline"
   ]
  },
  {
   "cell_type": "code",
   "execution_count": 2,
   "metadata": {
    "collapsed": true
   },
   "outputs": [],
   "source": [
    "from jiang_usmf import monte_carlo_subhalo_population, best_fit_param_dict\n",
    "del best_fit_param_dict['chi2']\n",
    "\n",
    "from halotools.sim_manager import CachedHaloCatalog\n",
    "halocat = CachedHaloCatalog(simname='bolplanck')\n",
    "\n",
    "from halotools.utils import SampleSelector\n",
    "\n",
    "hosts, subs = SampleSelector.host_halo_selection(table=halocat.halo_table, return_subhalos=True)\n",
    "\n",
    "hosts.sort('halo_mvir')\n",
    "subs.sort('halo_mvir_host_halo')\n",
    "\n",
    "log10_msub_min = 11\n",
    "subhalo_mpeak_cut = 10**log10_msub_min\n",
    "\n",
    "log10_mhost_min = max(11.5, log10_msub_min)\n",
    "\n",
    "subhalo_sample_mask = subs['halo_mpeak'] > subhalo_mpeak_cut\n",
    "subhalo_sample_mask *= subs['halo_mvir_host_halo'] >= 10**log10_mhost_min\n",
    "host_halo_sample_mask = hosts['halo_mvir'] > 10**log10_mhost_min\n",
    "\n",
    "hosts = hosts[host_halo_sample_mask]\n",
    "subs = subs[subhalo_sample_mask]"
   ]
  },
  {
   "cell_type": "code",
   "execution_count": null,
   "metadata": {},
   "outputs": [],
   "source": [
    "num_mhost_bins = 25\n",
    "log10_mhost_max = np.log10(hosts['halo_mvir'].max()) + 0.01\n",
    "mhost_bin_edges = np.logspace(log10_mhost_min, log10_mhost_max, num_mhost_bins)\n",
    "log10_mhost_bin_mids = 0.5*(np.log10(mhost_bin_edges[:-1]) + np.log10(mhost_bin_edges[1:]))\n",
    "mhost_bin_mids = 10**log10_mhost_bin_mids"
   ]
  },
  {
   "cell_type": "code",
   "execution_count": null,
   "metadata": {},
   "outputs": [],
   "source": [
    "import jiang_usmf\n",
    "reload(jiang_usmf)\n",
    "\n",
    "mc_nsub, mc_subhalo_mpeak = jiang_usmf.monte_carlo_subhalo_population(hosts['halo_mvir'], \n",
    "                                                           log10_msub_min, \n",
    "                                                           np.log10(mhost_bin_edges), **best_fit_param_dict)\n",
    "mhost_mock = np.append(hosts['halo_mvir'], np.repeat(hosts['halo_mvir'], mc_nsub))"
   ]
  },
  {
   "cell_type": "code",
   "execution_count": null,
   "metadata": {},
   "outputs": [],
   "source": [
    "fig, ax = plt.subplots(1, 1)\n",
    "\n",
    "__=ax.hist(np.log10(mc_subhalo_mpeak), bins=50)"
   ]
  },
  {
   "cell_type": "code",
   "execution_count": null,
   "metadata": {
    "collapsed": true
   },
   "outputs": [],
   "source": [
    "from halotools.empirical_models import Behroozi10SmHm\n",
    "model = Behroozi10SmHm(redshift=0)"
   ]
  },
  {
   "cell_type": "code",
   "execution_count": null,
   "metadata": {},
   "outputs": [],
   "source": [
    "sm_centrals = model.mc_stellar_mass(prim_haloprop=hosts['halo_mpeak'])\n",
    "sm_satellites = model.mc_stellar_mass(prim_haloprop=mc_subhalo_mpeak)\n",
    "sm_mock = np.append(sm_centrals, sm_satellites)\n",
    "\n",
    "mpeak_mock = np.append(hosts['halo_mpeak'], mc_subhalo_mpeak)"
   ]
  },
  {
   "cell_type": "code",
   "execution_count": null,
   "metadata": {},
   "outputs": [],
   "source": [
    "from halotools.empirical_models import PrebuiltSubhaloModelFactory\n",
    "beh_model = PrebuiltSubhaloModelFactory('behroozi10', redshift=0)\n",
    "beh_model.populate_mock(halocat)\n",
    "\n",
    "mask = beh_model.mock.galaxy_table['halo_mvir_host_halo'] > 10**log10_mhost_min\n",
    "mask *= (beh_model.mock.galaxy_table['halo_mpeak'] > subhalo_mpeak_cut)\n",
    "sample = beh_model.mock.galaxy_table[mask]"
   ]
  },
  {
   "cell_type": "code",
   "execution_count": null,
   "metadata": {},
   "outputs": [],
   "source": [
    "fig, ax = plt.subplots(1, 1)\n",
    "\n",
    "__=ax.hist(np.log10(sm_mock), bins=50, normed=True, color='red', alpha=0.5)\n",
    "__=ax.hist(np.log10(sample['stellar_mass']), bins=50, normed=True, color='blue', alpha=0.5)"
   ]
  },
  {
   "cell_type": "code",
   "execution_count": null,
   "metadata": {},
   "outputs": [],
   "source": [
    "fig, ax = plt.subplots(1, 1)\n",
    "\n",
    "__=ax.scatter(np.log10(mpeak_mock[::100]), np.log10(sm_mock[::100]), \n",
    "              s=1, color=blue)\n",
    "__=ax.scatter(np.log10(sample['halo_mpeak'][::100]), np.log10(sample['stellar_mass'][::100]), \n",
    "              s=1, color=red)"
   ]
  },
  {
   "cell_type": "code",
   "execution_count": null,
   "metadata": {
    "collapsed": true
   },
   "outputs": [],
   "source": []
  }
 ],
 "metadata": {
  "kernelspec": {
   "display_name": "Python [conda root]",
   "language": "python",
   "name": "conda-root-py"
  },
  "language_info": {
   "codemirror_mode": {
    "name": "ipython",
    "version": 2
   },
   "file_extension": ".py",
   "mimetype": "text/x-python",
   "name": "python",
   "nbconvert_exporter": "python",
   "pygments_lexer": "ipython2",
   "version": "2.7.13"
  }
 },
 "nbformat": 4,
 "nbformat_minor": 2
}
