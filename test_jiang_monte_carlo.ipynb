{
 "cells": [
  {
   "cell_type": "code",
   "execution_count": 1,
   "metadata": {
    "collapsed": true
   },
   "outputs": [],
   "source": [
    "%matplotlib inline"
   ]
  },
  {
   "cell_type": "code",
   "execution_count": 2,
   "metadata": {
    "collapsed": true
   },
   "outputs": [],
   "source": [
    "from halotools.sim_manager import CachedHaloCatalog\n",
    "halocat = CachedHaloCatalog(simname='bolplanck')\n",
    "\n",
    "from halotools.utils import SampleSelector\n",
    "\n",
    "hosts, subs = SampleSelector.host_halo_selection(table=halocat.halo_table, return_subhalos=True)"
   ]
  },
  {
   "cell_type": "code",
   "execution_count": 3,
   "metadata": {},
   "outputs": [],
   "source": [
    "log10_msub_min = 11\n",
    "subhalo_mpeak_cut = 10**log10_msub_min\n",
    "\n",
    "log10_mhost_min = max(11.75, log10_msub_min)\n",
    "log10_mhost_max = 14.75\n",
    "\n",
    "subhalo_sample_mask = subs['halo_mpeak'] > subhalo_mpeak_cut\n",
    "subhalo_sample_mask *= subs['halo_mvir_host_halo'] > 10**log10_mhost_min\n",
    "host_halo_sample_mask = hosts['halo_mvir'] > 10**log10_mhost_min\n",
    "\n",
    "num_mhost_bins = 25\n",
    "haloprop_bins = np.logspace(log10_mhost_min, log10_mhost_max, num_mhost_bins)\n",
    "log10_bin_mids = 0.5*(np.log10(haloprop_bins[:-1]) + np.log10(haloprop_bins[1:]))\n",
    "bin_mids = 10**log10_bin_mids\n",
    "\n",
    "from halotools.mock_observables import hod_from_mock\n",
    "\n",
    "mean_occupation_bolshoi, bin_edges = hod_from_mock(subs['halo_mvir_host_halo'][subhalo_sample_mask], \n",
    "                                           hosts['halo_mvir'][host_halo_sample_mask], \n",
    "                                                   haloprop_bins)\n",
    "host_halo_counts_bolshoi = np.histogram(hosts['halo_mvir'][host_halo_sample_mask], \n",
    "                                bins=haloprop_bins)[0].astype('f4')\n",
    "subhalo_counts_bolshoi = np.histogram(subs['halo_mvir_host_halo'][subhalo_sample_mask], \n",
    "                                bins=haloprop_bins)[0].astype('f4')\n"
   ]
  },
  {
   "cell_type": "code",
   "execution_count": 4,
   "metadata": {},
   "outputs": [
    {
     "name": "stdout",
     "output_type": "stream",
     "text": [
      "599351.325\n",
      "50947.9949219\n"
     ]
    }
   ],
   "source": [
    "from jiang_usmf import monte_carlo_subhalo_population\n",
    "\n",
    "def mean_nsub_prediction(beta, zeta, gamma1, alpha1, gamma2, alpha2):\n",
    "    params = dict(beta=beta, zeta=zeta, gamma1=gamma1, alpha1=alpha1, \n",
    "                 gamma2=gamma2, alpha2=alpha2)\n",
    "    mc_nsub, mc_subhalo_mpeak = monte_carlo_subhalo_population(hosts['halo_mvir'][host_halo_sample_mask], \n",
    "                                                           log10_msub_min, \n",
    "                                                           np.log10(haloprop_bins), **params)\n",
    "    mean_occupation_model, __ = hod_from_mock(np.repeat(hosts['halo_mvir'][host_halo_sample_mask], mc_nsub), \n",
    "                                           hosts['halo_mvir'][host_halo_sample_mask], haloprop_bins)\n",
    "    return mean_occupation_model\n",
    "\n",
    "def subhalo_counts_prediction(beta, zeta, gamma1, alpha1, gamma2, alpha2):\n",
    "    params = dict(beta=beta, zeta=zeta, gamma1=gamma1, alpha1=alpha1, \n",
    "                 gamma2=gamma2, alpha2=alpha2)\n",
    "    mc_nsub, mc_subhalo_mpeak = monte_carlo_subhalo_population(hosts['halo_mvir'][host_halo_sample_mask], \n",
    "                                                           log10_msub_min, \n",
    "                                                           np.log10(haloprop_bins), **params)\n",
    "    model_subs_mhost = np.repeat(hosts['halo_mvir'][host_halo_sample_mask], mc_nsub)\n",
    "    return np.histogram(model_subs_mhost, \n",
    "                                bins=haloprop_bins)[0].astype('f4') \n",
    "\n",
    "\n",
    "def chi2_mean_nsub(params):\n",
    "    beta, zeta, gamma1, alpha1, gamma2, alpha2 = params\n",
    "    mean_occupation_model = mean_nsub_prediction(beta, zeta, gamma1, alpha1, gamma2, alpha2)\n",
    "    return np.sum((mean_occupation_model - mean_occupation_bolshoi)**2/host_halo_counts)\n",
    "\n",
    "def chi2_subhalo_counts(params):\n",
    "    beta, zeta, gamma1, alpha1, gamma2, alpha2 = params\n",
    "    \n",
    "    num_mocks = 10\n",
    "    chi2_arr = np.zeros(num_mocks)\n",
    "    for i in range(num_mocks):\n",
    "        subhalo_counts_model = subhalo_counts_prediction(beta, zeta, gamma1, alpha1, gamma2, alpha2)\n",
    "        chi2_arr[i] = np.sum((subhalo_counts_model - subhalo_counts_bolshoi)**2/host_halo_counts_bolshoi)\n",
    "    return np.mean(chi2_arr)\n",
    "\n",
    "    \n",
    "beta_jiang14 = 5.67\n",
    "zeta_jiang14 = 1.19\n",
    "gamma1_jiang14 = 0.13\n",
    "alpha1_jiang14 = -0.83\n",
    "gamma2_jiang14 = 1.33\n",
    "alpha2_jiang14 = -0.02\n",
    "\n",
    "print(chi2_subhalo_counts((beta_jiang14, zeta_jiang14, \n",
    "              gamma1_jiang14, alpha1_jiang14, \n",
    "              gamma2_jiang14, alpha2_jiang14)))\n",
    "\n",
    "print(chi2_subhalo_counts((beta_jiang14, zeta_jiang14, \n",
    "              gamma1_jiang14, -0.925, \n",
    "              gamma2_jiang14, alpha2_jiang14)))"
   ]
  },
  {
   "cell_type": "code",
   "execution_count": 24,
   "metadata": {},
   "outputs": [
    {
     "data": {
      "image/png": "[encoded data removed]",
      "text/plain": [
       "<matplotlib.figure.Figure at 0x16e7f08d0>"
      ]
     },
     "metadata": {},
     "output_type": "display_data"
    }
   ],
   "source": [
    "fig, (ax1, ax2) = plt.subplots(1, 2, figsize=(12, 5))\n",
    "\n",
    "mean_occupation_model1 = mean_nsub_prediction(beta_jiang14, zeta_jiang14, \n",
    "                                              gamma1_jiang14, alpha1_jiang14, \n",
    "                                              gamma2_jiang14, alpha2_jiang14)\n",
    "\n",
    "beta_jiang14 = 5.67\n",
    "zeta_jiang14 = 1.19\n",
    "gamma1_jiang14 = 0.13\n",
    "alpha1_jiang14 = -0.83\n",
    "gamma2_jiang14 = 1.33\n",
    "alpha2_jiang14 = -0.02\n",
    "\n",
    "beta_new = 4\n",
    "zeta_new = zeta_jiang14\n",
    "gamma1_new = gamma1_jiang14\n",
    "alpha1_new = -0.925\n",
    "gamma2_new = 0.25\n",
    "alpha2_new = alpha2_jiang14\n",
    "\n",
    "mean_occupation_model2 = mean_nsub_prediction(beta_new, zeta_new, \n",
    "                                              gamma1_new, alpha1_new, \n",
    "                                              gamma2_new, alpha2_new)\n",
    "\n",
    "__=ax1.loglog()\n",
    "__=ax1.plot(bin_mids, mean_occupation_bolshoi, label='simulation', color=blue)\n",
    "__=ax1.plot(bin_mids, mean_occupation_model1, label='Jiang & van den Bosch 2014', color=red)\n",
    "__=ax1.plot(bin_mids, mean_occupation_model2, label='re-fitted model', color=green)\n",
    "\n",
    "xscale2 = ax2.set_xscale('log')\n",
    "fracdiff1 = (mean_occupation_model1 - mean_occupation_bolshoi)/mean_occupation_bolshoi\n",
    "fracdiff2 = (mean_occupation_model2 - mean_occupation_bolshoi)/mean_occupation_bolshoi\n",
    "\n",
    "__=ax2.plot(bin_mids, fracdiff1, label='Jiang & van den Bosch 2014', color=red)\n",
    "__=ax2.plot(bin_mids, fracdiff2, label='re-fitted model', color=green)\n",
    "__=ax2.plot(np.logspace(log10_mhost_min-1, log10_mhost_max+1, 100), np.zeros(100), '--', color='k')\n",
    "\n",
    "xlim2 = ax2.set_xlim(xmin=10**(log10_mhost_min-0.5), xmax=10**log10_mhost_max)\n",
    "xlim1 = ax1.set_xlim(xmin=10**(log10_mhost_min-0.5), xmax=10**log10_mhost_max)\n",
    "ylim1 = ax1.set_ylim(ymin=0.01)\n",
    "\n",
    "\n",
    "legend1 = ax1.legend()\n",
    "legend2 = ax2.legend()\n",
    "\n"
   ]
  },
  {
   "cell_type": "code",
   "execution_count": null,
   "metadata": {},
   "outputs": [],
   "source": [
    "from scipy.optimize import minimize\n",
    "\n",
    "beta_jiang14 = 5.67\n",
    "zeta_jiang14 = 1.19\n",
    "gamma1_jiang14 = 0.13\n",
    "alpha1_jiang14 = -0.83\n",
    "gamma2_jiang14 = 1.33\n",
    "alpha2_jiang14 = -0.02\n",
    "\n",
    "f = chi2_subhalo_counts\n",
    "x0 = (beta_jiang14, zeta_jiang14, \n",
    "      gamma1_jiang14, alpha1_jiang14, gamma2_jiang14, alpha2_jiang14)\n",
    "\n",
    "solver_methods = ['Nelder-Mead', 'COBYLA', 'Powell', 'CG', 'BFGS', 'L-BFGS-B', 'TNC']\n",
    "\n",
    "# result = minimize(f, x0, options=dict(maxiter=10), method=solver_methods[5])"
   ]
  },
  {
   "cell_type": "code",
   "execution_count": null,
   "metadata": {},
   "outputs": [],
   "source": []
  },
  {
   "cell_type": "code",
   "execution_count": null,
   "metadata": {},
   "outputs": [],
   "source": [
    "# def polynomial(x, a, b, c):\n",
    "#     return a + b*x + c*x**2\n",
    "\n",
    "# def noisy_polynomial(x, a, b, c):\n",
    "#     truth = polynomial(x, a, b, c)\n",
    "    \n",
    "#     return np.random.normal(loc=truth, scale=0.01*truth)\n",
    "\n",
    "# a0, b0, c0 = 1, 2, 3\n",
    "# a1, b1, c1 = 1.1, 2.1, 3.1\n",
    "\n",
    "# x = np.linspace(2, 5, 100)\n",
    "# correct = polynomial(x, a0, b0, c0)\n",
    "# noisy_model0 = noisy_polynomial(x, a0, b0, c0)\n",
    "# noisy_model1 = noisy_polynomial(x, a1, b1, c1)\n",
    "\n",
    "# # fig, ax = plt.subplots(1, 1)\n",
    "\n",
    "# # __=ax.plot(x, correct, color=blue)\n",
    "# # __=ax.plot(x, noisy_model0, color=red)\n",
    "# # __=ax.plot(x, noisy_model1, color=purple)\n",
    "\n",
    "# def chi2(params):\n",
    "#     a, b, c = params\n",
    "    \n",
    "#     correct = polynomial(x, a0, b0, c0)\n",
    "#     model = noisy_polynomial(x, a, b, c)\n",
    "#     errors = 0.1*correct\n",
    "#     return np.sum(((correct - model)/errors)**2)\n",
    "\n",
    "# f = chi2\n",
    "\n",
    "# fracerr = 0.25\n",
    "# a1 = np.random.normal(loc=a0, scale=fracerr*a0)\n",
    "# b1 = np.random.normal(loc=b0, scale=fracerr*b0)\n",
    "# c1 = np.random.normal(loc=c0, scale=fracerr*c0)\n",
    "# x0 = (a1, b1, c1)\n",
    "\n",
    "# solver_methods = ['Nelder-Mead', 'COBYLA', 'Powell', 'CG', 'BFGS', 'L-BFGS-B', 'TNC']\n",
    "# result = minimize(f, x0, options=dict(maxiter=30000), method=solver_methods[5])\n",
    "\n",
    "# print(\"x0 = {0}\".format(x0))\n",
    "# print(\"x1 = {0}\".format(result.x))\n"
   ]
  },
  {
   "cell_type": "code",
   "execution_count": null,
   "metadata": {
    "collapsed": true
   },
   "outputs": [],
   "source": []
  },
  {
   "cell_type": "code",
   "execution_count": null,
   "metadata": {},
   "outputs": [],
   "source": [
    "\n",
    "\n"
   ]
  },
  {
   "cell_type": "code",
   "execution_count": null,
   "metadata": {
    "collapsed": true
   },
   "outputs": [],
   "source": []
  }
 ],
 "metadata": {
  "anaconda-cloud": {},
  "kernelspec": {
   "display_name": "Python [conda root]",
   "language": "python",
   "name": "conda-root-py"
  },
  "language_info": {
   "codemirror_mode": {
    "name": "ipython",
    "version": 2
   },
   "file_extension": ".py",
   "mimetype": "text/x-python",
   "name": "python",
   "nbconvert_exporter": "python",
   "pygments_lexer": "ipython2",
   "version": "2.7.13"
  }
 },
 "nbformat": 4,
 "nbformat_minor": 2
}
