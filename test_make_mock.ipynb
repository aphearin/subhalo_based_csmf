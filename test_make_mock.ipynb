{
 "cells": [
  {
   "cell_type": "code",
   "execution_count": 1,
   "metadata": {
    "collapsed": true
   },
   "outputs": [],
   "source": [
    "%matplotlib inline"
   ]
  },
  {
   "cell_type": "code",
   "execution_count": 17,
   "metadata": {
    "collapsed": true
   },
   "outputs": [],
   "source": [
    "from make_mock import retrieve_halo_catalog\n",
    "\n",
    "log10_msub_min, log10_mhost_min = 11.25, 11.25\n",
    "hosts, subs = retrieve_halo_catalog(log10_msub_min, log10_mhost_min)"
   ]
  },
  {
   "cell_type": "code",
   "execution_count": 18,
   "metadata": {},
   "outputs": [
    {
     "name": "stdout",
     "output_type": "stream",
     "text": [
      "Satellite fraction using new methods = 0.93\n"
     ]
    }
   ],
   "source": [
    "import make_mock\n",
    "reload(make_mock)\n",
    "\n",
    "is_central, mpeak_mock, sm_mock, mhost_mock = make_mock.make_mock(hosts, subs, sm_min=10**9.75)\n",
    "num_gals1 = len(sm_mock)\n",
    "num_sats1 = np.count_nonzero(is_central == False)\n",
    "fsat1 = num_sats1/float(num_gals1)\n",
    "print(\"Satellite fraction using new methods = {0:.2f}\".format(fsat1))"
   ]
  },
  {
   "cell_type": "code",
   "execution_count": 19,
   "metadata": {
    "collapsed": true
   },
   "outputs": [],
   "source": [
    "from halotools.empirical_models import PrebuiltSubhaloModelFactory\n",
    "from halotools.sim_manager import CachedHaloCatalog\n",
    "\n",
    "halocat = CachedHaloCatalog()\n",
    "model = PrebuiltSubhaloModelFactory('behroozi10', redshift=0)\n",
    "model.populate_mock(halocat)"
   ]
  },
  {
   "cell_type": "code",
   "execution_count": 20,
   "metadata": {},
   "outputs": [
    {
     "name": "stdout",
     "output_type": "stream",
     "text": [
      "Satellite fraction using old methods = 0.21\n"
     ]
    }
   ],
   "source": [
    "mask = model.mock.galaxy_table['stellar_mass'] > 10**9.75\n",
    "gals2 = model.mock.galaxy_table[mask]\n",
    "\n",
    "cens2_mask = gals2['halo_upid'] == -1\n",
    "\n",
    "cens2 = gals2[cens2_mask]\n",
    "sats2 = gals2[~cens2_mask]\n",
    "\n",
    "num_gals2 = len(gals2)\n",
    "num_sats2 = len(sats2)\n",
    "fsat2 = num_sats2/float(num_gals2)\n",
    "\n",
    "print(\"Satellite fraction using old methods = {0:.2f}\".format(fsat2))"
   ]
  },
  {
   "cell_type": "code",
   "execution_count": 21,
   "metadata": {},
   "outputs": [
    {
     "data": {
      "image/png": "[encoded data removed]",
      "text/plain": [
       "<matplotlib.figure.Figure at 0x11a073dd0>"
      ]
     },
     "metadata": {},
     "output_type": "display_data"
    }
   ],
   "source": [
    "fig, ax = plt.subplots(1, 1)\n",
    "\n",
    "log_mhost_bins = np.linspace(11, 14.75, 25)\n",
    "\n",
    "__=ax.hist(np.log10(gals2['halo_mvir_host_halo']), bins=log_mhost_bins)\n",
    "__=ax.hist(np.log10(mhost_mock), bins=log_mhost_bins, alpha=0.5)"
   ]
  },
  {
   "cell_type": "code",
   "execution_count": 23,
   "metadata": {},
   "outputs": [
    {
     "data": {
      "image/png": "[encoded data removed]",
      "text/plain": [
       "<matplotlib.figure.Figure at 0x1168cba50>"
      ]
     },
     "metadata": {},
     "output_type": "display_data"
    }
   ],
   "source": [
    "fig, ax = plt.subplots(1, 1)\n",
    "\n",
    "log_mpeak_bins = np.linspace(11, 14.75, 25)\n",
    "\n",
    "__=ax.hist(np.log10(sats2['halo_mpeak']), bins=log_mpeak_bins)\n",
    "__=ax.hist(np.log10(mpeak_mock[~is_central]), bins=log_mpeak_bins, alpha=0.5)"
   ]
  },
  {
   "cell_type": "code",
   "execution_count": 24,
   "metadata": {},
   "outputs": [
    {
     "data": {
      "image/png": "[encoded data removed]",
      "text/plain": [
       "<matplotlib.figure.Figure at 0x15d7ae9d0>"
      ]
     },
     "metadata": {},
     "output_type": "display_data"
    }
   ],
   "source": [
    "fig, ax = plt.subplots(1, 1)\n",
    "\n",
    "log_mpeak_bins = np.linspace(11, 14.75, 25)\n",
    "\n",
    "__=ax.hist(np.log10(sats2['halo_mpeak']), bins=log_mpeak_bins, normed=True)\n",
    "__=ax.hist(np.log10(mpeak_mock[~is_central]), bins=log_mpeak_bins, alpha=0.5, normed=True)"
   ]
  },
  {
   "cell_type": "code",
   "execution_count": 25,
   "metadata": {},
   "outputs": [
    {
     "data": {
      "image/png": "[encoded data removed]",
      "text/plain": [
       "<matplotlib.figure.Figure at 0x1166b8090>"
      ]
     },
     "metadata": {},
     "output_type": "display_data"
    }
   ],
   "source": [
    "fig, ax = plt.subplots(1, 1)\n",
    "\n",
    "log_mpeak_bins = np.linspace(11, 14.75, 25)\n",
    "\n",
    "__=ax.hist(np.log10(cens2['halo_mpeak']), bins=log_mpeak_bins, normed=True)\n",
    "__=ax.hist(np.log10(mpeak_mock[is_central]), bins=log_mpeak_bins, alpha=0.5, normed=True)"
   ]
  },
  {
   "cell_type": "code",
   "execution_count": 28,
   "metadata": {},
   "outputs": [
    {
     "data": {
      "text/plain": [
       "9.2860003123200006"
      ]
     },
     "execution_count": 28,
     "metadata": {},
     "output_type": "execute_result"
    }
   ],
   "source": [
    "mpeak_mock[is_central].max()/1e12"
   ]
  },
  {
   "cell_type": "code",
   "execution_count": null,
   "metadata": {
    "collapsed": true
   },
   "outputs": [],
   "source": []
  }
 ],
 "metadata": {
  "anaconda-cloud": {},
  "kernelspec": {
   "display_name": "Python [conda root]",
   "language": "python",
   "name": "conda-root-py"
  },
  "language_info": {
   "codemirror_mode": {
    "name": "ipython",
    "version": 2
   },
   "file_extension": ".py",
   "mimetype": "text/x-python",
   "name": "python",
   "nbconvert_exporter": "python",
   "pygments_lexer": "ipython2",
   "version": "2.7.13"
  }
 },
 "nbformat": 4,
 "nbformat_minor": 2
}
