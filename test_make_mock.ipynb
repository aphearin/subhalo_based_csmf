{
 "cells": [
  {
   "cell_type": "code",
   "execution_count": 1,
   "metadata": {
    "collapsed": true
   },
   "outputs": [],
   "source": [
    "%matplotlib inline"
   ]
  },
  {
   "cell_type": "code",
   "execution_count": 28,
   "metadata": {},
   "outputs": [],
   "source": [
    "from make_mock import retrieve_halo_catalog\n",
    "\n",
    "log10_msub_min, log10_mhost_min = 11.5, 11.5\n",
    "hosts, subs = retrieve_halo_catalog(log10_msub_min, log10_mhost_min)"
   ]
  },
  {
   "cell_type": "code",
   "execution_count": 29,
   "metadata": {},
   "outputs": [
    {
     "name": "stdout",
     "output_type": "stream",
     "text": [
      "Satellite fraction = 0.83\n"
     ]
    }
   ],
   "source": [
    "import make_mock\n",
    "reload(make_mock)\n",
    "\n",
    "is_central, mpeak_mock, sm_mock, mhost_mock = make_mock.make_mock(hosts, subs, sm_min=10**9.75)\n",
    "num_cens = np.count_nonzero(is_central)\n",
    "num_sats = len(is_central) - num_cens\n",
    "fsat = num_sats/float(num_cens + num_sats)\n",
    "print(\"Satellite fraction = {0:.2f}\".format(fsat))"
   ]
  },
  {
   "cell_type": "code",
   "execution_count": 16,
   "metadata": {},
   "outputs": [
    {
     "data": {
      "text/plain": [
       "0.6222533847431307"
      ]
     },
     "execution_count": 16,
     "metadata": {},
     "output_type": "execute_result"
    }
   ],
   "source": [
    "np.count_nonzero(~is_central[sm_mask]), len(is_central)\n",
    "\n",
    "248047./398627."
   ]
  },
  {
   "cell_type": "code",
   "execution_count": null,
   "metadata": {
    "collapsed": true
   },
   "outputs": [],
   "source": [
    "from subhalo_selection import select_subhalo_indices\n",
    "select_subhalo_indices(satellite_host_property,\n",
    "        bin_edges, sorted_subhalo_host_property"
   ]
  }
 ],
 "metadata": {
  "kernelspec": {
   "display_name": "Python [conda root]",
   "language": "python",
   "name": "conda-root-py"
  },
  "language_info": {
   "codemirror_mode": {
    "name": "ipython",
    "version": 2
   },
   "file_extension": ".py",
   "mimetype": "text/x-python",
   "name": "python",
   "nbconvert_exporter": "python",
   "pygments_lexer": "ipython2",
   "version": "2.7.13"
  }
 },
 "nbformat": 4,
 "nbformat_minor": 2
}
